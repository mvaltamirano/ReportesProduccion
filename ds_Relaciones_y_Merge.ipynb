{
 "cells": [
  {
   "cell_type": "code",
   "execution_count": 3,
   "id": "8826e821",
   "metadata": {},
   "outputs": [],
   "source": [
    "\n",
    "import pandas as pd\n",
    "import numpy as np\n"
   ]
  },
  {
   "cell_type": "code",
   "execution_count": 4,
   "id": "aa17e4d0",
   "metadata": {},
   "outputs": [],
   "source": [
    "\n",
    "# Leer dataframes\n",
    "df_clientes = pd.read_csv('../Datasets/olist_customers_dataset.csv')\n",
    "df_pedidos = pd.read_csv('../Datasets/olist_orders_dataset.csv')\n",
    "df_productos_en_pedidos = pd.read_csv('../Datasets/olist_order_items_dataset.csv')\n",
    "df_productos = pd.read_csv('../Datasets/olist_products_dataset.csv')\n",
    "df_calificaciones = pd.read_csv('../Datasets/olist_order_reviews_dataset.csv')\n"
   ]
  },
  {
   "cell_type": "code",
   "execution_count": 3,
   "id": "f117ed5a",
   "metadata": {},
   "outputs": [
    {
     "data": {
      "text/plain": [
       "customer_id                 object\n",
       "customer_unique_id          object\n",
       "customer_zip_code_prefix     int64\n",
       "customer_city               object\n",
       "customer_state              object\n",
       "dtype: object"
      ]
     },
     "execution_count": 3,
     "metadata": {},
     "output_type": "execute_result"
    }
   ],
   "source": [
    "\n",
    "df_clientes.dtypes\n"
   ]
  },
  {
   "cell_type": "code",
   "execution_count": 26,
   "id": "5f968097",
   "metadata": {},
   "outputs": [
    {
     "data": {
      "text/plain": [
       "order_id                         object\n",
       "customer_id                      object\n",
       "order_status                     object\n",
       "order_purchase_timestamp         object\n",
       "order_approved_at                object\n",
       "order_delivered_carrier_date     object\n",
       "order_delivered_customer_date    object\n",
       "order_estimated_delivery_date    object\n",
       "dtype: object"
      ]
     },
     "execution_count": 26,
     "metadata": {},
     "output_type": "execute_result"
    }
   ],
   "source": [
    "\n",
    "df_pedidos.dtypes\n"
   ]
  },
  {
   "cell_type": "code",
   "execution_count": 28,
   "id": "d7a48481",
   "metadata": {},
   "outputs": [
    {
     "data": {
      "text/plain": [
       "order_id                object\n",
       "order_item_id            int64\n",
       "product_id              object\n",
       "seller_id               object\n",
       "shipping_limit_date     object\n",
       "price                  float64\n",
       "freight_value          float64\n",
       "dtype: object"
      ]
     },
     "execution_count": 28,
     "metadata": {},
     "output_type": "execute_result"
    }
   ],
   "source": [
    "\n",
    "df_productos_en_pedidos.dtypes\n"
   ]
  },
  {
   "cell_type": "code",
   "execution_count": 30,
   "id": "d0ba51fb",
   "metadata": {},
   "outputs": [
    {
     "data": {
      "text/plain": [
       "product_id                     object\n",
       "product_category_name          object\n",
       "product_name_lenght           float64\n",
       "product_description_lenght    float64\n",
       "product_photos_qty            float64\n",
       "product_weight_g              float64\n",
       "product_length_cm             float64\n",
       "product_height_cm             float64\n",
       "product_width_cm              float64\n",
       "dtype: object"
      ]
     },
     "execution_count": 30,
     "metadata": {},
     "output_type": "execute_result"
    }
   ],
   "source": [
    "\n",
    "df_productos.dtypes\n"
   ]
  },
  {
   "cell_type": "code",
   "execution_count": 47,
   "id": "1a7461f2",
   "metadata": {},
   "outputs": [
    {
     "data": {
      "text/plain": [
       "review_id                  object\n",
       "order_id                   object\n",
       "review_score                int64\n",
       "review_comment_title       object\n",
       "review_comment_message     object\n",
       "review_creation_date       object\n",
       "review_answer_timestamp    object\n",
       "dtype: object"
      ]
     },
     "execution_count": 47,
     "metadata": {},
     "output_type": "execute_result"
    }
   ],
   "source": [
    "\n",
    "df_calificaciones.dtypes\n"
   ]
  },
  {
   "cell_type": "code",
   "execution_count": 5,
   "id": "f47b32f6",
   "metadata": {},
   "outputs": [],
   "source": [
    "\n",
    "# Join para agregar a Productos información del pedidos\n",
    "df_productos_comprados = pd.merge(\n",
    "    df_productos_en_pedidos[['order_id','product_id','price','freight_value']],\n",
    "    df_productos[['product_id','product_category_name']], on=['product_id'])\n"
   ]
  },
  {
   "cell_type": "code",
   "execution_count": 6,
   "id": "a0d7f90b",
   "metadata": {},
   "outputs": [],
   "source": [
    "\n",
    "# Join para agrefar la informacón del pedido\n",
    "df_pedidos_prodcutos = pd.merge(df_productos_comprados, df_pedidos, on=['order_id'])\n"
   ]
  },
  {
   "cell_type": "code",
   "execution_count": 7,
   "id": "d51b51ff",
   "metadata": {},
   "outputs": [],
   "source": [
    "\n",
    "# Join para agregar la información del cliente\n",
    "df_pedidos_clientes = pd.merge(\n",
    "    df_pedidos_prodcutos,\n",
    "    df_clientes[['customer_id','customer_city','customer_state']],\n",
    "    on=['customer_id'])\n"
   ]
  },
  {
   "cell_type": "code",
   "execution_count": 8,
   "id": "a5504b36",
   "metadata": {},
   "outputs": [],
   "source": [
    "\n",
    "# Join para agregar las calificaciones\n",
    "df_ventas = pd.merge(df_pedidos_clientes,df_calificaciones[['order_id','review_score']], on=['order_id'])\n"
   ]
  },
  {
   "cell_type": "code",
   "execution_count": 9,
   "id": "63d5b4f7",
   "metadata": {},
   "outputs": [],
   "source": [
    "\n",
    "# Depurar y afinar df_ventas\n",
    "df_ventas = df_ventas.drop(['product_id','customer_id'], axis=1)\n",
    "df_ventas = df_ventas.rename(columns={'order_id':'Id_Pedidos',\n",
    "                                      'price':'Precio_Producto',  \n",
    "                                      'freight_value':'Precio_Flete',\n",
    "                                      'product_category_name':'Categoria_Producto',\n",
    "                                      'order_status':'Estatus_Pedido',\n",
    "                                      'order_purchase_timestamp':'FH_Pedido',\n",
    "                                      'order_approved_at':'FH_Aprovacion',\n",
    "                                      'order_delivered_carrier_date':'FH_Envio',\n",
    "                                      'order_delivered_customer_date':'FH_Entrega',\n",
    "                                      'order_estimated_delivery_date':'F_Estimada_Entrega',\n",
    "                                      'customer_city':'Ciudad',\n",
    "                                      'customer_state':'Estado',\n",
    "                                      'review_score':'Calificacion'})\n"
   ]
  },
  {
   "cell_type": "code",
   "execution_count": 10,
   "id": "155f7d91",
   "metadata": {},
   "outputs": [],
   "source": [
    "\n",
    "# Convertir el tipo de datos de las variables de fecha, de Object a Datetime\n",
    "df_ventas['FH_Pedido'] = df_ventas['FH_Pedido'].astype('datetime64')\n",
    "df_ventas['FH_Aprovacion'] = df_ventas['FH_Aprovacion'].astype('datetime64')\n",
    "df_ventas['FH_Envio'] = df_ventas['FH_Envio'].astype('datetime64',errors='ignore')\n",
    "df_ventas['FH_Entrega'] = df_ventas['FH_Entrega'].astype('datetime64',errors='ignore')\n",
    "df_ventas['F_Estimada_Entrega'] = df_ventas['F_Estimada_Entrega'].astype('datetime64',errors='ignore')\n"
   ]
  },
  {
   "cell_type": "code",
   "execution_count": 12,
   "id": "49a9f133",
   "metadata": {},
   "outputs": [],
   "source": [
    "\n",
    "# Exportar dataframe\n",
    "df_ventas.to_feather('../Datasets/Ventas.feather')\n",
    "df_ventas.to_csv('../Datasets/Ventas.csv', index=False, encoding='utf-8')\n"
   ]
  }
 ],
 "metadata": {
  "kernelspec": {
   "display_name": "Python 3 (ipykernel)",
   "language": "python",
   "name": "python3"
  },
  "language_info": {
   "codemirror_mode": {
    "name": "ipython",
    "version": 3
   },
   "file_extension": ".py",
   "mimetype": "text/x-python",
   "name": "python",
   "nbconvert_exporter": "python",
   "pygments_lexer": "ipython3",
   "version": "3.9.19"
  }
 },
 "nbformat": 4,
 "nbformat_minor": 5
}
