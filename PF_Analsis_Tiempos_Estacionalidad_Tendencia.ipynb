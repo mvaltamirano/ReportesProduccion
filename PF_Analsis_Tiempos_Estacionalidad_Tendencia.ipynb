{
 "cells": [
  {
   "cell_type": "markdown",
   "id": "55fcdd81",
   "metadata": {},
   "source": [
    "# **Proyecto Final Data Science- CoderHouse**"
   ]
  },
  {
   "cell_type": "markdown",
   "id": "8d64e86f",
   "metadata": {},
   "source": [
    "* Dataset selected for analysis: https://www.kaggle.com/datasets/olistbr/brazilian-ecommerce"
   ]
  },
  {
   "cell_type": "markdown",
   "id": "16fa684d",
   "metadata": {},
   "source": [
    "#### Equipo\n",
    "* David Alejandro Sanabria \n",
    "* Fabio Ramírez Alfaro -----> No hemos tenido razón de Fabio, aún no sabemos si sigue ocn nosotros.\n",
    "* Patricia Frias  \n",
    "* Marco Vinicio Altamirano F \n",
    "\n",
    "\n",
    "### Tutor\n",
    "* Cristian Velazquez"
   ]
  },
  {
   "cell_type": "markdown",
   "id": "135848aa",
   "metadata": {},
   "source": [
    "### Proyecto enfocado en ML para Retail\n",
    "\n",
    "### - - Conjunto de datos públicos de comercio electrónico brasileño por Olist\n",
    "* Objetivo: Un algoritmo de ML ideal predecirá el comportamiento de las ventas en los periodos futuros.\n",
    "* Nombre del archivo: Ventas3 (Base de datos limpia la cual se extrajo de las bases de datos de Olist)\n",
    "* Variable Target: FH_Entrega, Estatus_Pedido.\t"
   ]
  },
  {
   "cell_type": "code",
   "execution_count": 7,
   "id": "9c4852e9",
   "metadata": {},
   "outputs": [],
   "source": [
    "import pandas as pd\n",
    "import numpy as np\n",
    "import seaborn as sns \n",
    "import matplotlib.pyplot as plt\n",
    "from datetime import datetime\n"
   ]
  },
  {
   "cell_type": "code",
   "execution_count": 22,
   "id": "6f0b41e8",
   "metadata": {},
   "outputs": [],
   "source": [
    "\n",
    "# Tabajar con el dataset depurado\n",
    "df_ventas2 = pd.read_feather(\"Ventas3.feather\")\n"
   ]
  },
  {
   "cell_type": "code",
   "execution_count": 23,
   "id": "866f0790",
   "metadata": {},
   "outputs": [
    {
     "data": {
      "text/plain": [
       "Id_Pedidos                    object\n",
       "Precio_Producto              float64\n",
       "Precio_Flete                 float64\n",
       "Categoria_Producto            object\n",
       "Estatus_Pedido                object\n",
       "FH_Pedido             datetime64[ns]\n",
       "FH_Aprobacion         datetime64[ns]\n",
       "FH_Entrega            datetime64[ns]\n",
       "F_Estimada_Entrega    datetime64[ns]\n",
       "Ciudad                        object\n",
       "Estado                        object\n",
       "Calificacion                   int64\n",
       "Year                          object\n",
       "Meses                         object\n",
       "Dia                           object\n",
       "Periodo                       object\n",
       "dtype: object"
      ]
     },
     "execution_count": 23,
     "metadata": {},
     "output_type": "execute_result"
    }
   ],
   "source": [
    "#Evidenciar las caracteristicas de la base de datos\n",
    "df_ventas2.dtypes\n"
   ]
  },
  {
   "cell_type": "code",
   "execution_count": 10,
   "id": "5b476336",
   "metadata": {},
   "outputs": [
    {
     "data": {
      "text/html": [
       "<div>\n",
       "<style scoped>\n",
       "    .dataframe tbody tr th:only-of-type {\n",
       "        vertical-align: middle;\n",
       "    }\n",
       "\n",
       "    .dataframe tbody tr th {\n",
       "        vertical-align: top;\n",
       "    }\n",
       "\n",
       "    .dataframe thead th {\n",
       "        text-align: right;\n",
       "    }\n",
       "</style>\n",
       "<table border=\"1\" class=\"dataframe\">\n",
       "  <thead>\n",
       "    <tr style=\"text-align: right;\">\n",
       "      <th></th>\n",
       "      <th>Id_Pedidos</th>\n",
       "      <th>Precio_Producto</th>\n",
       "      <th>Precio_Flete</th>\n",
       "      <th>Categoria_Producto</th>\n",
       "      <th>Estatus_Pedido</th>\n",
       "      <th>FH_Pedido</th>\n",
       "      <th>FH_Aprobacion</th>\n",
       "      <th>FH_Entrega</th>\n",
       "      <th>F_Estimada_Entrega</th>\n",
       "      <th>Ciudad</th>\n",
       "      <th>Estado</th>\n",
       "      <th>Calificacion</th>\n",
       "      <th>Year</th>\n",
       "      <th>Meses</th>\n",
       "      <th>Dia</th>\n",
       "      <th>Periodo</th>\n",
       "    </tr>\n",
       "  </thead>\n",
       "  <tbody>\n",
       "    <tr>\n",
       "      <th>0</th>\n",
       "      <td>00010242fe8c5a6d1ba2dd792cb16214</td>\n",
       "      <td>58.9</td>\n",
       "      <td>13.29</td>\n",
       "      <td>cool_stuff</td>\n",
       "      <td>delivered</td>\n",
       "      <td>2017-09-13 08:59:02</td>\n",
       "      <td>2017-09-13 09:45:35</td>\n",
       "      <td>2017-09-20 23:43:48</td>\n",
       "      <td>2017-09-29</td>\n",
       "      <td>campos dos goytacazes</td>\n",
       "      <td>RJ</td>\n",
       "      <td>5</td>\n",
       "      <td>2017</td>\n",
       "      <td>09</td>\n",
       "      <td>20</td>\n",
       "      <td>2017_09</td>\n",
       "    </tr>\n",
       "    <tr>\n",
       "      <th>1</th>\n",
       "      <td>130898c0987d1801452a8ed92a670612</td>\n",
       "      <td>55.9</td>\n",
       "      <td>17.96</td>\n",
       "      <td>cool_stuff</td>\n",
       "      <td>delivered</td>\n",
       "      <td>2017-06-28 11:52:20</td>\n",
       "      <td>2017-06-29 02:44:11</td>\n",
       "      <td>2017-07-13 20:39:29</td>\n",
       "      <td>2017-07-26</td>\n",
       "      <td>jatai</td>\n",
       "      <td>GO</td>\n",
       "      <td>5</td>\n",
       "      <td>2017</td>\n",
       "      <td>07</td>\n",
       "      <td>13</td>\n",
       "      <td>2017_07</td>\n",
       "    </tr>\n",
       "    <tr>\n",
       "      <th>2</th>\n",
       "      <td>532ed5e14e24ae1f0d735b91524b98b9</td>\n",
       "      <td>64.9</td>\n",
       "      <td>18.33</td>\n",
       "      <td>cool_stuff</td>\n",
       "      <td>delivered</td>\n",
       "      <td>2018-05-18 10:25:53</td>\n",
       "      <td>2018-05-18 12:31:43</td>\n",
       "      <td>2018-06-04 18:34:26</td>\n",
       "      <td>2018-06-07</td>\n",
       "      <td>belo horizonte</td>\n",
       "      <td>MG</td>\n",
       "      <td>4</td>\n",
       "      <td>2018</td>\n",
       "      <td>06</td>\n",
       "      <td>4</td>\n",
       "      <td>2018_06</td>\n",
       "    </tr>\n",
       "    <tr>\n",
       "      <th>3</th>\n",
       "      <td>6f8c31653edb8c83e1a739408b5ff750</td>\n",
       "      <td>58.9</td>\n",
       "      <td>16.17</td>\n",
       "      <td>cool_stuff</td>\n",
       "      <td>delivered</td>\n",
       "      <td>2017-08-01 18:38:42</td>\n",
       "      <td>2017-08-01 18:55:08</td>\n",
       "      <td>2017-08-09 21:26:33</td>\n",
       "      <td>2017-08-25</td>\n",
       "      <td>sao jose dos pinhais</td>\n",
       "      <td>PR</td>\n",
       "      <td>5</td>\n",
       "      <td>2017</td>\n",
       "      <td>08</td>\n",
       "      <td>9</td>\n",
       "      <td>2017_08</td>\n",
       "    </tr>\n",
       "    <tr>\n",
       "      <th>4</th>\n",
       "      <td>7d19f4ef4d04461989632411b7e588b9</td>\n",
       "      <td>58.9</td>\n",
       "      <td>13.29</td>\n",
       "      <td>cool_stuff</td>\n",
       "      <td>delivered</td>\n",
       "      <td>2017-08-10 21:48:40</td>\n",
       "      <td>2017-08-10 22:05:11</td>\n",
       "      <td>2017-08-24 20:04:21</td>\n",
       "      <td>2017-09-01</td>\n",
       "      <td>conselheiro lafaiete</td>\n",
       "      <td>MG</td>\n",
       "      <td>5</td>\n",
       "      <td>2017</td>\n",
       "      <td>08</td>\n",
       "      <td>24</td>\n",
       "      <td>2017_08</td>\n",
       "    </tr>\n",
       "  </tbody>\n",
       "</table>\n",
       "</div>"
      ],
      "text/plain": [
       "                         Id_Pedidos  Precio_Producto  Precio_Flete  \\\n",
       "0  00010242fe8c5a6d1ba2dd792cb16214             58.9         13.29   \n",
       "1  130898c0987d1801452a8ed92a670612             55.9         17.96   \n",
       "2  532ed5e14e24ae1f0d735b91524b98b9             64.9         18.33   \n",
       "3  6f8c31653edb8c83e1a739408b5ff750             58.9         16.17   \n",
       "4  7d19f4ef4d04461989632411b7e588b9             58.9         13.29   \n",
       "\n",
       "  Categoria_Producto Estatus_Pedido           FH_Pedido       FH_Aprobacion  \\\n",
       "0         cool_stuff      delivered 2017-09-13 08:59:02 2017-09-13 09:45:35   \n",
       "1         cool_stuff      delivered 2017-06-28 11:52:20 2017-06-29 02:44:11   \n",
       "2         cool_stuff      delivered 2018-05-18 10:25:53 2018-05-18 12:31:43   \n",
       "3         cool_stuff      delivered 2017-08-01 18:38:42 2017-08-01 18:55:08   \n",
       "4         cool_stuff      delivered 2017-08-10 21:48:40 2017-08-10 22:05:11   \n",
       "\n",
       "           FH_Entrega F_Estimada_Entrega                 Ciudad Estado  \\\n",
       "0 2017-09-20 23:43:48         2017-09-29  campos dos goytacazes     RJ   \n",
       "1 2017-07-13 20:39:29         2017-07-26                  jatai     GO   \n",
       "2 2018-06-04 18:34:26         2018-06-07         belo horizonte     MG   \n",
       "3 2017-08-09 21:26:33         2017-08-25   sao jose dos pinhais     PR   \n",
       "4 2017-08-24 20:04:21         2017-09-01   conselheiro lafaiete     MG   \n",
       "\n",
       "   Calificacion  Year Meses Dia  Periodo  \n",
       "0             5  2017    09  20  2017_09  \n",
       "1             5  2017    07  13  2017_07  \n",
       "2             4  2018    06   4  2018_06  \n",
       "3             5  2017    08   9  2017_08  \n",
       "4             5  2017    08  24  2017_08  "
      ]
     },
     "execution_count": 10,
     "metadata": {},
     "output_type": "execute_result"
    }
   ],
   "source": [
    "\n",
    "df_ventas2.head()\n"
   ]
  },
  {
   "cell_type": "code",
   "execution_count": 24,
   "id": "844e842a",
   "metadata": {},
   "outputs": [],
   "source": [
    "\n",
    "# Agregar 4 columnas una con el año, otra mes, otra con el día y una cuarta para almacenar periodo Año_mes\n",
    "df_ventas_2 = df_ventas2.assign(Year = df_ventas2['FH_Entrega'].dt.year)\n",
    "df_ventas_2 = df_ventas_2.assign(Meses = df_ventas_2['FH_Entrega'].dt.month)\n",
    "df_ventas_2 = df_ventas_2.assign(Dia = df_ventas_2['FH_Entrega'].dt.day)\n",
    "df_ventas_2 = df_ventas_2.assign(Periodo = \"0000_00\")\n"
   ]
  },
  {
   "cell_type": "code",
   "execution_count": 25,
   "id": "5d170855",
   "metadata": {},
   "outputs": [],
   "source": [
    "\n",
    "# Cambiar los tipos de datos de año, mes día a texto para unirlos como cadena en la variable Periodo\n",
    "df_ventas_2['Year'] = df_ventas_2['Year'].astype(str)\n",
    "df_ventas_2['Meses'] = df_ventas_2['Meses'].astype(str)\n",
    "df_ventas_2['Dia'] = df_ventas_2['Dia'].astype(str)\n"
   ]
  },
  {
   "cell_type": "code",
   "execution_count": 26,
   "id": "59a7e56f",
   "metadata": {},
   "outputs": [
    {
     "data": {
      "text/plain": [
       "Periodo\n",
       "0000_00    99584\n",
       "Name: Periodo, dtype: int64"
      ]
     },
     "execution_count": 26,
     "metadata": {},
     "output_type": "execute_result"
    }
   ],
   "source": [
    "df_ventas_2.groupby('Periodo')['Periodo'].count()"
   ]
  },
  {
   "cell_type": "code",
   "execution_count": 27,
   "id": "ed3dd19b",
   "metadata": {},
   "outputs": [],
   "source": [
    "\n",
    "# Arreglar la columana meses para obtener ordenada la serie...\n",
    "df_ventas_2['Meses'] = df_ventas_2['Meses'].map({'1':'01','2':'02','3':'03','4':'04','5':'05','6':'06',\n",
    "                                                 '7':'07','8':'08','9':'09','10':'10','11':'11','12':'12'\n",
    "                                                })\n"
   ]
  },
  {
   "cell_type": "code",
   "execution_count": 28,
   "id": "97def454",
   "metadata": {},
   "outputs": [],
   "source": [
    "\n",
    "# Armar la variable de periodos\n",
    "df_ventas_2['Periodo'] = df_ventas_2[['Year','Meses']].agg(\"_\".join, axis=1)\n"
   ]
  },
  {
   "cell_type": "code",
   "execution_count": 29,
   "id": "7e8d91be",
   "metadata": {},
   "outputs": [
    {
     "data": {
      "text/plain": [
       "Periodo\n",
       "2016_10     217\n",
       "2016_11      77\n",
       "2016_12      25\n",
       "2017_01     286\n",
       "2017_02    1355\n",
       "2017_03    2502\n",
       "2017_04    1916\n",
       "2017_05    3861\n",
       "2017_06    3338\n",
       "2017_07    3591\n",
       "2017_08    4495\n",
       "2017_09    4067\n",
       "2017_10    4647\n",
       "2017_11    4834\n",
       "2017_12    7414\n",
       "2018_01    6684\n",
       "2018_02    5954\n",
       "2018_03    7020\n",
       "2018_04    8089\n",
       "2018_05    7395\n",
       "2018_06    7066\n",
       "2018_07    6016\n",
       "2018_08    8672\n",
       "2018_09      60\n",
       "2018_10       3\n",
       "Name: Periodo, dtype: int64"
      ]
     },
     "execution_count": 29,
     "metadata": {},
     "output_type": "execute_result"
    }
   ],
   "source": [
    "\n",
    "df_ventas_2.groupby('Periodo')['Periodo'].count()\n"
   ]
  },
  {
   "cell_type": "code",
   "execution_count": 38,
   "id": "c385ea0c",
   "metadata": {},
   "outputs": [
    {
     "data": {
      "text/plain": [
       "Periodo\n",
       "2016_10     217\n",
       "2016_11      77\n",
       "2016_12      25\n",
       "2017_01     286\n",
       "2017_02    1355\n",
       "2017_03    2502\n",
       "2017_04    1916\n",
       "2017_05    3861\n",
       "2017_06    3338\n",
       "2017_07    3591\n",
       "2017_08    4495\n",
       "2017_09    4067\n",
       "2017_10    4647\n",
       "2017_11    4834\n",
       "2017_12    7414\n",
       "2018_01    6684\n",
       "2018_02    5954\n",
       "2018_03    7020\n",
       "2018_04    8089\n",
       "2018_05    7395\n",
       "2018_06    7066\n",
       "2018_07    6016\n",
       "2018_08    8672\n",
       "2018_09      60\n",
       "2018_10       3\n",
       "Name: Periodo, dtype: int64"
      ]
     },
     "execution_count": 38,
     "metadata": {},
     "output_type": "execute_result"
    }
   ],
   "source": [
    "# Se nombra la base de datos filtrada para graficarla y evideciar el comportamiento.\n",
    "datos_a = df_ventas_2.groupby('Periodo')['Periodo'].count()\n",
    "datos_a "
   ]
  },
  {
   "cell_type": "markdown",
   "id": "df3274de",
   "metadata": {},
   "source": [
    "## - - Análisis Univariado"
   ]
  },
  {
   "cell_type": "markdown",
   "id": "56d58c1c",
   "metadata": {},
   "source": [
    "El análisis inicial se centra en evidenciar la cantidad de ordenes con estado entregado con el objetivo de analizar el comportamiento de las entregas (ventas completadas) por mes/año de los datos históricos."
   ]
  },
  {
   "cell_type": "code",
   "execution_count": 30,
   "id": "1d82835e",
   "metadata": {},
   "outputs": [
    {
     "name": "stderr",
     "output_type": "stream",
     "text": [
      "C:\\Users\\Usuario\\miniconda3\\lib\\site-packages\\seaborn\\_decorators.py:36: FutureWarning: Pass the following variables as keyword args: x, y. From version 0.12, the only valid positional argument will be `data`, and passing other arguments without an explicit keyword will result in an error or misinterpretation.\n",
      "  warnings.warn(\n"
     ]
    },
    {
     "data": {
      "image/png": "[encoded data removed]",
      "text/plain": [
       "<Figure size 720x360 with 1 Axes>"
      ]
     },
     "metadata": {
      "needs_background": "light"
     },
     "output_type": "display_data"
    }
   ],
   "source": [
    "#Relación de las ordenes con el estado del pedido \n",
    "\n",
    "orderc = df_ventas_2['Estatus_Pedido'].value_counts(ascending=False)\n",
    "plt.figure(figsize=(10,5))\n",
    "palette = sns.color_palette('Greens_d', len(orderc))\n",
    "ax = sns.barplot(orderc.index, orderc.values, alpha=0.8 , palette=np.array(palette[::-1]))\n",
    "plt.title('Cantidad de ordenes por estado', fontsize=16)\n",
    "plt.ylabel('Cantidad', fontsize=12)\n",
    "plt.xlabel('Estado de la orden', fontsize=12)\n",
    "plt.ylim(0,120000) \n",
    "ax.bar_label(ax.containers[0])\n",
    "plt.show()"
   ]
  },
  {
   "cell_type": "markdown",
   "id": "5a1ce39a",
   "metadata": {},
   "source": [
    "### - - Análisis serie de tiempo tendencia y estacionalidad "
   ]
  },
  {
   "cell_type": "markdown",
   "id": "6331c115",
   "metadata": {},
   "source": [
    "Se nota inicialmente que la distribución de las ventas a través del tiempo, no tiene estacionacionalidad aunque tiene una tendencia por lo tanto tentativamente se debe proceder con un análisis Arima."
   ]
  },
  {
   "cell_type": "code",
   "execution_count": 57,
   "id": "6288dcf9",
   "metadata": {},
   "outputs": [
    {
     "name": "stderr",
     "output_type": "stream",
     "text": [
      "C:\\Users\\Usuario\\miniconda3\\lib\\site-packages\\seaborn\\_decorators.py:36: FutureWarning: Pass the following variables as keyword args: x, y. From version 0.12, the only valid positional argument will be `data`, and passing other arguments without an explicit keyword will result in an error or misinterpretation.\n",
      "  warnings.warn(\n"
     ]
    },
    {
     "data": {
      "image/png": "[encoded data removed]",
      "text/plain": [
       "<Figure size 1440x720 with 1 Axes>"
      ]
     },
     "metadata": {
      "needs_background": "light"
     },
     "output_type": "display_data"
    }
   ],
   "source": [
    "d_a = datos_a \n",
    "plt.figure(figsize=(20,10))\n",
    "ax = sns.lineplot(d_a.index, d_a.values, alpha=0.8, linestyle='--', marker='o', color='b', label='Ventas')\n",
    "plt.title('Análisis de Tendencia y Estacionalidad en las ventas mensuales', fontsize=18)\n",
    "plt.ylabel('Ventas del perido', fontsize=12)\n",
    "plt.xlabel('Perido mensual (Año_Mes [0000_00])', fontsize=12)\n",
    "plt.xticks(rotation=90)\n",
    "plt.ylim(0,10000) \n",
    "plt.legend()\n",
    "plt.show()"
   ]
  },
  {
   "cell_type": "code",
   "execution_count": null,
   "id": "a17a8885",
   "metadata": {},
   "outputs": [],
   "source": []
  }
 ],
 "metadata": {
  "kernelspec": {
   "display_name": "Python 3 (ipykernel)",
   "language": "python",
   "name": "python3"
  },
  "language_info": {
   "codemirror_mode": {
    "name": "ipython",
    "version": 3
   },
   "file_extension": ".py",
   "mimetype": "text/x-python",
   "name": "python",
   "nbconvert_exporter": "python",
   "pygments_lexer": "ipython3",
   "version": "3.9.7"
  }
 },
 "nbformat": 4,
 "nbformat_minor": 5
}
