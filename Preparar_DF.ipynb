{
 "cells": [
  {
   "cell_type": "code",
   "execution_count": 1,
   "id": "631a0213",
   "metadata": {},
   "outputs": [],
   "source": [
    "import pandas as pd\n",
    "import numpy as np"
   ]
  },
  {
   "cell_type": "code",
   "execution_count": 2,
   "id": "3bb889cb",
   "metadata": {},
   "outputs": [],
   "source": [
    "# Crear el DF\n",
    "encabezados_p = ['FECHA','P_PERSONAS','TURNO','P_H_INICIO','P_H_FIN','OP','PRODUCTO','TRABAJO','P_CANTIDAD','UM','PRECIO',\n",
    "              'P_INGRESO','R_PERSONAS','R_H_INICIO','R_H_FIN','R_CANTIDAD','R_INGRESO','A_CANTIDAD','P_COSTO','R_COSTO',\n",
    "              'UTILIDAD','PLANEADO','P_E_PERSONAS','P_E_HORARIO','P_E_CANTIDAD','CUMPLIMIENTO','ID','OBSERVACIONES']\n",
    "encabezados_t = ['TURNO','INICIO','FIN','HORARIO','HORAS','SALARIO_D','SALARIO_H']\n",
    "encabezados_m = ['ID','MAQUILADOR']\n",
    "s_ruta = r\"C:\\Users\\mvalt\\OneDrive - ASSEMBLED AS YOU NEED\\OPs 2025\\PLAN DE PRODUCCION VS REALIDAD\\REPORTE PLAN DE PRODUCCION VS REALIDAD.xlsm\"\n",
    "df_Produccion = pd.read_excel(s_ruta,sheet_name = 'PRODUCCION')\n",
    "df_Turnos = pd.read_excel(s_ruta,sheet_name = 'CATALOGOS')\n",
    "df_Maquiladores = pd.read_excel(s_ruta,sheet_name = 'RENDIMIENTO')"
   ]
  },
  {
   "cell_type": "code",
   "execution_count": 3,
   "id": "50acb6dd-f251-498f-be00-33a6e8d617d0",
   "metadata": {},
   "outputs": [],
   "source": [
    "# Preparar el DF de Producción\n",
    "df_Produccion.drop(['ID','MESA','ALERTA PLANEADO','DESTACAR','Unnamed: 32','Unnamed: 33','Unnamed: 34'],\n",
    "                   axis = 1, inplace = True)\n",
    "df_Produccion.dropna(subset = ['HORA INICIO'], inplace = True)\n",
    "df_Produccion.dropna(subset = ['HORA FIN'], inplace = True)\n",
    "df_Produccion.dropna(subset = ['HORA INICIO REAL'], inplace = True)\n",
    "df_Produccion.dropna(subset = ['HORA FIN REAL'], inplace = True)\n",
    "df_Produccion.reset_index(drop = True, inplace = True)\n",
    "#df_Produccion.set_axis(encabezados, axis = 1, inplace = True)\n",
    "df_Produccion = df_Produccion.set_axis(encabezados_p, axis = 1)\n",
    "df_Produccion['P_H_INICIO'] = pd.to_timedelta(df_Produccion['P_H_INICIO'].astype(str), errors = 'coerce')\n",
    "df_Produccion['P_H_FIN'] = pd.to_timedelta(df_Produccion['P_H_FIN'].astype(str), errors = 'coerce')\n",
    "df_Produccion['R_H_INICIO'] = pd.to_timedelta(df_Produccion['R_H_INICIO'].astype(str), errors = 'coerce')\n",
    "df_Produccion['R_H_FIN'] = pd.to_timedelta(df_Produccion['R_H_FIN'].astype(str), errors = 'coerce')\n",
    "# Preparar el DF de Turnos\n",
    "df_Turnos.drop(['FECHAS','Unnamed: 1','Unnamed: 9','UNIDAD_MEDIDA'], axis = 1, inplace = True)\n",
    "df_Turnos.dropna(subset = ['TURNO'], inplace = True)\n",
    "df_Turnos.reset_index(drop = True, inplace = True)\n",
    "df_Turnos = df_Turnos.set_axis(encabezados_t, axis = 1)\n",
    "# Preparar el DF de Maquiladores\n",
    "df_Maquiladores.drop(['RENDIMIENTO','ACTIVO','Unnamed: 4','MAQUILADOR.1','RENDIMIENTO PROMEDIO','CANTIDAD DE TRABAJOS',\n",
    "                      'RENDIMIENTO MINIMO','RENDIMIENTO MAXIMO','Unnamed: 10','YESENIA ROJAS AVILA','Unnamed: 12','Unnamed: 13',\n",
    "                      'Unnamed: 14','TRABAJO','FEB-0133'], axis = 1, inplace = True)\n",
    "df_Maquiladores.dropna(subset = ['ID'], inplace = True)\n",
    "df_Maquiladores.reset_index(drop = True, inplace = True)\n",
    "df_Maquiladores = df_Maquiladores.set_axis(encabezados_m, axis = 1)"
   ]
  },
  {
   "cell_type": "code",
   "execution_count": 4,
   "id": "5c90be9c-68b7-46f5-b6fe-f15bf272a1b7",
   "metadata": {},
   "outputs": [],
   "source": [
    "# Crar arhcivo para trabajar con los datos\n",
    "s_ruta = r\"C:\\ARP\\REPORTES\\PRODUCCION\\Produccion.feather\"\n",
    "df_Produccion.to_feather(s_ruta)\n",
    "s_ruta = r\"C:\\ARP\\REPORTES\\PRODUCCION\\Turnos.feather\"\n",
    "df_Turnos.to_feather(s_ruta)\n",
    "s_ruta = r\"C:\\ARP\\REPORTES\\PRODUCCION\\Maquiladores.feather\"\n",
    "df_Maquiladores.to_feather(s_ruta)"
   ]
  }
 ],
 "metadata": {
  "kernelspec": {
   "display_name": "Python 3 (ipykernel)",
   "language": "python",
   "name": "python3"
  },
  "language_info": {
   "codemirror_mode": {
    "name": "ipython",
    "version": 3
   },
   "file_extension": ".py",
   "mimetype": "text/x-python",
   "name": "python",
   "nbconvert_exporter": "python",
   "pygments_lexer": "ipython3",
   "version": "3.9.19"
  }
 },
 "nbformat": 4,
 "nbformat_minor": 5
}
