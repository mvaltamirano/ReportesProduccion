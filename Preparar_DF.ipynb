{
 "cells": [
  {
   "cell_type": "code",
   "execution_count": 1,
   "id": "631a0213",
   "metadata": {},
   "outputs": [],
   "source": [
    "import pandas as pd\n",
    "import numpy as np"
   ]
  },
  {
   "cell_type": "code",
   "execution_count": 14,
   "id": "3bb889cb",
   "metadata": {},
   "outputs": [],
   "source": [
    "encabezados = ['FECHA','P_PERSONAS','TURNO','P_H_INICIO','P_H_FIN','OP','PRODUCTO','TRABAJO','P_CANTIDAD','UM','PRECIO',\n",
    "              'P_INGRESO','R_PERSONAS','R_H_INICIO','R_H_FIN','R_CANTIDAD','R_INGRESO','A_CANTIDAD','P_COSTO','R_COSTO',\n",
    "              'UTILIDAD','PLANEADO','P_E_PERSONAS','P_E_HORARIO','P_E_CANTIDAD','CUMPLIMIENTO','ID','OBSERVACIONES']\n",
    "s_ruta = r\"E:\\Persistentes\\REPORTE PLAN DE PRODUCCION VS REALIDAD.xlsm\"\n",
    "df_Produccion = pd.read_excel(s_ruta,sheet_name = 'PRODUCCION')"
   ]
  },
  {
   "cell_type": "code",
   "execution_count": 25,
   "id": "50acb6dd-f251-498f-be00-33a6e8d617d0",
   "metadata": {},
   "outputs": [
    {
     "data": {
      "text/plain": [
       "FECHA             datetime64[ns]\n",
       "P_PERSONAS               float64\n",
       "TURNO                     object\n",
       "P_H_INICIO       timedelta64[ns]\n",
       "P_H_FIN                   object\n",
       "OP                         int64\n",
       "PRODUCTO                  object\n",
       "TRABAJO                   object\n",
       "P_CANTIDAD               float64\n",
       "UM                        object\n",
       "PRECIO                   float64\n",
       "P_INGRESO                float64\n",
       "R_PERSONAS               float64\n",
       "R_H_INICIO                object\n",
       "R_H_FIN                   object\n",
       "R_CANTIDAD               float64\n",
       "R_INGRESO                float64\n",
       "A_CANTIDAD               float64\n",
       "P_COSTO                  float64\n",
       "R_COSTO                  float64\n",
       "UTILIDAD                 float64\n",
       "PLANEADO                  object\n",
       "P_E_PERSONAS              object\n",
       "P_E_HORARIO               object\n",
       "P_E_CANTIDAD              object\n",
       "CUMPLIMIENTO             float64\n",
       "ID                        object\n",
       "OBSERVACIONES             object\n",
       "dtype: object"
      ]
     },
     "execution_count": 25,
     "metadata": {},
     "output_type": "execute_result"
    }
   ],
   "source": [
    "#df_Produccion.drop(['ID','MESA','ALERTA PLANEADO','DESTACAR','Unnamed: 32','Unnamed: 33','Unnamed: 34'],\n",
    "#                   axis = 1, inplace = True)\n",
    "#df_Produccion.dropna(subset = ['HORA INICIO'], inplace = True)\n",
    "#df_Produccion.reset_index(drop = True, inplace = True)\n",
    "#df_Produccion.set_axis(encabezados, axis = 1, inplace = True)\n",
    "#df_Produccion['P_H_INICIO'] = pd.to_timedelta(df_Produccion['P_H_INICIO'], errors = 'coerce')\n",
    "df_Produccion.dtypes\n",
    "#df_Produccion['P_H_FIN'].tail"
   ]
  },
  {
   "cell_type": "code",
   "execution_count": null,
   "id": "392ab29b-8ae4-4fdc-8b58-a8a010dd030a",
   "metadata": {},
   "outputs": [],
   "source": []
  }
 ],
 "metadata": {
  "kernelspec": {
   "display_name": "Python 3 (ipykernel)",
   "language": "python",
   "name": "python3"
  },
  "language_info": {
   "codemirror_mode": {
    "name": "ipython",
    "version": 3
   },
   "file_extension": ".py",
   "mimetype": "text/x-python",
   "name": "python",
   "nbconvert_exporter": "python",
   "pygments_lexer": "ipython3",
   "version": "3.9.19"
  }
 },
 "nbformat": 4,
 "nbformat_minor": 5
}
