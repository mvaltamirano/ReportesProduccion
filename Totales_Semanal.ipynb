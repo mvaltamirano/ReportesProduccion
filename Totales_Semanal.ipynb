{
 "cells": [
  {
   "cell_type": "code",
   "execution_count": 1,
   "id": "0839c901-8221-4040-89fc-49ee53815a4f",
   "metadata": {},
   "outputs": [],
   "source": [
    "import pandas as pd\n",
    "import numpy as np"
   ]
  },
  {
   "cell_type": "code",
   "execution_count": 2,
   "id": "1a834aa3-8e36-48fc-9d05-1fad67dd7565",
   "metadata": {},
   "outputs": [],
   "source": [
    "# Leer la fuente de datos\n",
    "s_ruta = r\"C:\\ARP\\REPORTES\\PRODUCCION\\Produccion.feather\"\n",
    "df_Produccion = pd.read_feather(s_ruta)"
   ]
  },
  {
   "cell_type": "code",
   "execution_count": 3,
   "id": "584a473f-99e4-4725-854b-6d22f7c92c8b",
   "metadata": {},
   "outputs": [],
   "source": [
    "# Definir los periodos\n",
    "def df_Semanal(df,semana,year):\n",
    "    df['SEMANA'] = df['FECHA'].dt.isocalendar().week - 1 + (df['FECHA'].dt.weekday >=5).astype(int)\n",
    "    df_filtrado = df[(df['SEMANA'] == semana) & (df['FECHA'].dt.year == year)]\n",
    "\n",
    "    return df_filtrado\n"
   ]
  },
  {
   "cell_type": "code",
   "execution_count": 4,
   "id": "226388b9-94dd-4141-a197-321bda3cd590",
   "metadata": {},
   "outputs": [],
   "source": [
    "df_Xsemana = df_Semanal(df_Produccion,14,2025)"
   ]
  },
  {
   "cell_type": "code",
   "execution_count": 5,
   "id": "7fe563f8-b0c3-44dc-adaf-77bd4c8e6e43",
   "metadata": {},
   "outputs": [],
   "source": [
    "i = 0\n",
    "Totales = {}\n",
    "Titulos = ['INGRESO REAL','COSTO REAL','INGRESO PLANEADO','COSTO PLANEADO','INGRESOS SIN PLAN','COSTOS SIN PLAN',\n",
    "          'INGRESOS CON PLAN','COSTOS CON PLAN','TRABAJOS PLANEADOS','TRABAJOS NO EJECUTADOS',\n",
    "          'TRABAJOS SIN PLAN']\n",
    "for x in df_Xsemana[['R_INGRESO','R_COSTO','P_INGRESO','P_COSTO']].sum():\n",
    "    Totales[Titulos[i]] = x\n",
    "    i += 1\n",
    "\n",
    "Totales[Titulos[i]] = df_Xsemana[(df_Xsemana['PLANEADO'] == 'NO')]['R_INGRESO'].sum()\n",
    "i += 1\n",
    "Totales[Titulos[i]] = df_Xsemana[(df_Xsemana['PLANEADO'] == 'NO')]['R_COSTO'].sum()\n",
    "i += 1\n",
    "Totales[Titulos[i]] = df_Xsemana[(df_Xsemana['PLANEADO'] == 'SI')]['R_INGRESO'].sum()\n",
    "i += 1\n",
    "Totales[Titulos[i]] = df_Xsemana[(df_Xsemana['PLANEADO'] == 'SI')]['R_COSTO'].sum()\n",
    "i += 1\n",
    "Totales[Titulos[i]] = df_Xsemana[(df_Xsemana['R_PERSONAS'] > 0) & (df_Xsemana['PLANEADO'] == \"SI\")]['PLANEADO'].count()\n",
    "i += 1\n",
    "Totales[Titulos[i]] = df_Xsemana[(df_Xsemana['R_PERSONAS'] == 0) & (df_Xsemana['PLANEADO'] == \"SI\")]['PLANEADO'].count()\n",
    "i += 1\n",
    "Totales[Titulos[i]] = df_Xsemana[(df_Xsemana['PLANEADO'] == \"NO\")]['PLANEADO'].count()"
   ]
  },
  {
   "cell_type": "markdown",
   "id": "17bf1ca6-e898-4b47-a6ee-70203c85a685",
   "metadata": {},
   "source": [
    "## REPORTE SEMANAL 14 DEL 05 AL 11 DE ABRIL\n",
    "El reporte de producción presenta los ingresos, los costos y la utilidad que se generan en la semana.\n",
    "Presenta la información de resultados del plan de producción y su impacto en los costos de producción.\\\n",
    "La información que se presenta tiene como objetivo identificar las áreas de oportunidad y crear un plan de producción eficaz.\n",
    "___\n",
    "> #### TOTAL DE LOS TRABAJOS REALIZADOS"
   ]
  },
  {
   "cell_type": "code",
   "execution_count": 6,
   "id": "00df9ba0-cf66-48c8-b6c2-c780c700b6e1",
   "metadata": {},
   "outputs": [
    {
     "name": "stdout",
     "output_type": "stream",
     "text": [
      "SEMANA 14\n",
      "\n",
      "UTILIDAD:\t$ 80,091.04\n",
      "MARGEN:\t\t56.1%\n",
      "\n",
      "INGRESO:\t$142,720.37\n",
      "COSTO:\t\t$ 62,629.33\n",
      "\n"
     ]
    }
   ],
   "source": [
    "no_sem = df_Xsemana['SEMANA'].max()\n",
    "utilidad = Totales['INGRESO REAL'] - Totales['COSTO REAL']\n",
    "margen = utilidad / Totales['INGRESO REAL']\n",
    "print(f\"\"\"SEMANA {no_sem}\\n\n",
    "UTILIDAD:\\t$ {utilidad:,.2f}\n",
    "MARGEN:\\t\\t{margen:.1%}\\n\n",
    "INGRESO:\\t${Totales['INGRESO REAL']:,.2f}\n",
    "COSTO:\\t\\t$ {Totales['COSTO REAL']:,.2f}\\n\"\"\")"
   ]
  },
  {
   "cell_type": "markdown",
   "id": "252e62ec-37c2-4f75-8f33-7a42c7495b91",
   "metadata": {},
   "source": [
    "___\n",
    "### INDICADORES PARA MEDIR LA EFICACIA DEL PLAN DE PRODUCCIÓN\n",
    "Tomando los datos de los trabajos planeados y los no planeados se calculan la utilidad y los margenes en cada caso.\\\n",
    "Con estos datos durante un periodo de tiempo podremos evaluar el impacto que tiene la improvisación, es decir el realizar trabajos no planeados, en los ingresos por utilidad bruta.\n",
    "> ####  TRABAJOS REALIZADOS INCLUIDOS EN EL PLAN DE PRODUCCIÓN"
   ]
  },
  {
   "cell_type": "code",
   "execution_count": 7,
   "id": "7ecde3bd-d9c0-475a-b1be-31b84c130e00",
   "metadata": {},
   "outputs": [
    {
     "name": "stdout",
     "output_type": "stream",
     "text": [
      "UTILIDAD:\t$ 78,085.30\n",
      "MARGEN:\t\t57.3%\n",
      "\n",
      "INGRESO:\t$136,198.97\n",
      "COSTO:\t\t$ 58,113.67\n",
      "\n"
     ]
    }
   ],
   "source": [
    "utilidad_CP = Totales['INGRESOS CON PLAN'] - Totales['COSTOS CON PLAN']\n",
    "margen_CP = utilidad_CP / Totales['INGRESOS CON PLAN']\n",
    "print(f\"\"\"UTILIDAD:\\t$ {utilidad_CP:,.2f}\n",
    "MARGEN:\\t\\t{margen_CP:.1%}\\n\n",
    "INGRESO:\\t${Totales['INGRESOS CON PLAN']:,.2f}\n",
    "COSTO:\\t\\t$ {Totales['COSTOS CON PLAN']:,.2f}\n",
    "\"\"\")"
   ]
  },
  {
   "cell_type": "markdown",
   "id": "2c9f6775-fef5-4a23-bbee-8c6f14a52648",
   "metadata": {},
   "source": [
    "> ####  TRABAJOS REALIZADOS NO INCLUIDOS EN EL PLAN DE PRODUCCIÓN"
   ]
  },
  {
   "cell_type": "code",
   "execution_count": 8,
   "id": "e9163f34-73b4-4589-898a-7748144b7cc6",
   "metadata": {},
   "outputs": [
    {
     "name": "stdout",
     "output_type": "stream",
     "text": [
      "UTILIDAD:\t$  2,005.73\n",
      "MARGEN:\t\t30.8%\n",
      "\n",
      "INGRESO:\t$  6,521.40\n",
      "COSTO:\t\t$  4,515.67\n",
      "\n"
     ]
    }
   ],
   "source": [
    "utilidad_SP = Totales['INGRESOS SIN PLAN'] - Totales['COSTOS SIN PLAN']\n",
    "margen_SP = utilidad_SP / Totales['INGRESOS SIN PLAN']\n",
    "print(f\"\"\"UTILIDAD:\\t$  {utilidad_SP:,.2f}\n",
    "MARGEN:\\t\\t{margen_SP:.1%}\\n\n",
    "INGRESO:\\t$  {Totales['INGRESOS SIN PLAN']:,.2f}\n",
    "COSTO:\\t\\t$  {Totales['COSTOS SIN PLAN']:,.2f}\n",
    "\"\"\")"
   ]
  }
 ],
 "metadata": {
  "kernelspec": {
   "display_name": "Python 3 (ipykernel)",
   "language": "python",
   "name": "python3"
  },
  "language_info": {
   "codemirror_mode": {
    "name": "ipython",
    "version": 3
   },
   "file_extension": ".py",
   "mimetype": "text/x-python",
   "name": "python",
   "nbconvert_exporter": "python",
   "pygments_lexer": "ipython3",
   "version": "3.12.10"
  }
 },
 "nbformat": 4,
 "nbformat_minor": 5
}
